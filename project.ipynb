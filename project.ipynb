{
  "cells": [
    {
      "cell_type": "markdown",
      "metadata": {
        "id": "view-in-github",
        "colab_type": "text"
      },
      "source": [
        "<a href=\"https://colab.research.google.com/github/Faisal-161/News_classification_GRU/blob/main/project.ipynb\" target=\"_parent\"><img src=\"https://colab.research.google.com/assets/colab-badge.svg\" alt=\"Open In Colab\"/></a>"
      ]
    },
    {
      "cell_type": "markdown",
      "metadata": {
        "id": "jPyOLVkdqAl3"
      },
      "source": [
        "## Import Dependencies\n"
      ]
    },
    {
      "cell_type": "code",
      "execution_count": null,
      "metadata": {
        "id": "8avXOKiOdyL0"
      },
      "outputs": [],
      "source": [
        "\n",
        "import numpy as np\n",
        "import matplotlib.pyplot as plt\n",
        "%matplotlib inline\n",
        "import pandas as pd\n",
        "import seaborn as sns\n",
        "import re,nltk,json\n",
        "import tensorflow as tf\n",
        "from tensorflow import keras\n",
        "from tensorflow.keras import regularizers\n",
        "from tensorflow.keras.preprocessing.sequence import pad_sequences\n",
        "from keras import models\n",
        "from keras import layers\n",
        "from tensorflow.keras.layers import LSTM,GRU\n",
        "from tensorflow.keras.models import load_model\n",
        "from sklearn.metrics import confusion_matrix\n",
        "from sklearn.metrics import classification_report\n",
        "from sklearn.model_selection import train_test_split\n",
        "from sklearn.metrics import accuracy_score,precision_score,recall_score,f1_score,roc_auc_score\n",
        "from sklearn.metrics import average_precision_score,roc_auc_score, roc_curve, precision_recall_curve\n",
        "from sklearn.preprocessing import LabelEncoder\n",
        "from tensorflow.keras.preprocessing.text import Tokenizer\n",
        "np.random.seed(42)\n",
        "\n",
        "class color: # Text style\n",
        "   PURPLE = '\\033[95m'\n",
        "   CYAN = '\\033[96m'\n",
        "   DARKCYAN = '\\033[36m'\n",
        "   BLUE = '\\033[94m'\n",
        "   GREEN = '\\033[92m'\n",
        "   YELLOW = '\\033[93m'\n",
        "   RED = '\\033[91m'\n",
        "   BOLD = '\\033[1m'\n",
        "   UNDERLINE = '\\033[4m'\n",
        "   END = '\\033[0m'\n",
        "# dataset path\n",
        "path = '/content/drive/MyDrive/data/data.csv'\n"
      ]
    },
    {
      "cell_type": "markdown",
      "metadata": {
        "id": "_sIf25WhqIm2"
      },
      "source": [
        "## Connect with Google Drive"
      ]
    },
    {
      "cell_type": "code",
      "execution_count": null,
      "metadata": {
        "colab": {
          "base_uri": "https://localhost:8080/"
        },
        "id": "5oRMmZauCTeK",
        "outputId": "1c40ca46-31fc-4df8-e225-603863d83a02"
      },
      "outputs": [
        {
          "output_type": "stream",
          "name": "stdout",
          "text": [
            "Drive already mounted at /content/drive; to attempt to forcibly remount, call drive.mount(\"/content/drive\", force_remount=True).\n"
          ]
        }
      ],
      "source": [
        "from google.colab import drive\n",
        "drive.mount('/content/drive')\n"
      ]
    },
    {
      "cell_type": "markdown",
      "metadata": {
        "id": "nG59QbKdqPb_"
      },
      "source": [
        "## Reading the data from Drive"
      ]
    },
    {
      "cell_type": "code",
      "execution_count": null,
      "metadata": {
        "colab": {
          "base_uri": "https://localhost:8080/"
        },
        "id": "-9KkbUfaCwY9",
        "outputId": "c232e8d0-0d1b-443c-8708-a191fb008160"
      },
      "outputs": [
        {
          "output_type": "execute_result",
          "data": {
            "text/plain": [
              "                                                 headline   category  \\\n",
              "0                হঠাৎ করে কেঁদে ফেললেন ঐশ্বরিয়া রাই, কেন!  Amusement   \n",
              "1                           এত দামি জুতা পরেন প্রিয়াঙ্কা!  Amusement   \n",
              "2                         মৃত্যুর আগে শ্রীদেবীর শেষ ভিডিও  Amusement   \n",
              "3                কৌতুক অভিনেতা কপিল শর্মার ঘরে নতুন অতিথি  Amusement   \n",
              "4              বিয়ের পর কোহলির জন্য যে ত্যাগ করলেন আনুশকা  Amusement   \n",
              "...                                                   ...        ...   \n",
              "136806                                     অন্যরকম উদযাপন   national   \n",
              "136807  তিস্তাসহ অভিন্ন নদীর ন্যায্য হিস্যা দাবিতে বিক...   national   \n",
              "136808                                  রাজনীতি ছাড়তে চান   national   \n",
              "136809                      বিএনপি নির্বাচনী ভীতিতে ভুগছে   national   \n",
              "136810  লোভের আগুনে পুড়ে আর প্রাণহানি নয় শিল্পকলা একাড...   national   \n",
              "\n",
              "        newspaper name  \n",
              "0             Jugantor  \n",
              "1             Jugantor  \n",
              "2             Jugantor  \n",
              "3             Jugantor  \n",
              "4             Jugantor  \n",
              "...                ...  \n",
              "136806  Dainik Inqilab  \n",
              "136807  Dainik Inqilab  \n",
              "136808  Dainik Inqilab  \n",
              "136809  Dainik Inqilab  \n",
              "136810  Dainik Inqilab  \n",
              "\n",
              "[136811 rows x 3 columns]"
            ],
            "text/html": [
              "\n",
              "  <div id=\"df-891ca562-a5b8-43c5-b4b0-929114a88c5e\" class=\"colab-df-container\">\n",
              "    <div>\n",
              "<style scoped>\n",
              "    .dataframe tbody tr th:only-of-type {\n",
              "        vertical-align: middle;\n",
              "    }\n",
              "\n",
              "    .dataframe tbody tr th {\n",
              "        vertical-align: top;\n",
              "    }\n",
              "\n",
              "    .dataframe thead th {\n",
              "        text-align: right;\n",
              "    }\n",
              "</style>\n",
              "<table border=\"1\" class=\"dataframe\">\n",
              "  <thead>\n",
              "    <tr style=\"text-align: right;\">\n",
              "      <th></th>\n",
              "      <th>headline</th>\n",
              "      <th>category</th>\n",
              "      <th>newspaper name</th>\n",
              "    </tr>\n",
              "  </thead>\n",
              "  <tbody>\n",
              "    <tr>\n",
              "      <th>0</th>\n",
              "      <td>হঠাৎ করে কেঁদে ফেললেন ঐশ্বরিয়া রাই, কেন!</td>\n",
              "      <td>Amusement</td>\n",
              "      <td>Jugantor</td>\n",
              "    </tr>\n",
              "    <tr>\n",
              "      <th>1</th>\n",
              "      <td>এত দামি জুতা পরেন প্রিয়াঙ্কা!</td>\n",
              "      <td>Amusement</td>\n",
              "      <td>Jugantor</td>\n",
              "    </tr>\n",
              "    <tr>\n",
              "      <th>2</th>\n",
              "      <td>মৃত্যুর আগে শ্রীদেবীর শেষ ভিডিও</td>\n",
              "      <td>Amusement</td>\n",
              "      <td>Jugantor</td>\n",
              "    </tr>\n",
              "    <tr>\n",
              "      <th>3</th>\n",
              "      <td>কৌতুক অভিনেতা কপিল শর্মার ঘরে নতুন অতিথি</td>\n",
              "      <td>Amusement</td>\n",
              "      <td>Jugantor</td>\n",
              "    </tr>\n",
              "    <tr>\n",
              "      <th>4</th>\n",
              "      <td>বিয়ের পর কোহলির জন্য যে ত্যাগ করলেন আনুশকা</td>\n",
              "      <td>Amusement</td>\n",
              "      <td>Jugantor</td>\n",
              "    </tr>\n",
              "    <tr>\n",
              "      <th>...</th>\n",
              "      <td>...</td>\n",
              "      <td>...</td>\n",
              "      <td>...</td>\n",
              "    </tr>\n",
              "    <tr>\n",
              "      <th>136806</th>\n",
              "      <td>অন্যরকম উদযাপন</td>\n",
              "      <td>national</td>\n",
              "      <td>Dainik Inqilab</td>\n",
              "    </tr>\n",
              "    <tr>\n",
              "      <th>136807</th>\n",
              "      <td>তিস্তাসহ অভিন্ন নদীর ন্যায্য হিস্যা দাবিতে বিক...</td>\n",
              "      <td>national</td>\n",
              "      <td>Dainik Inqilab</td>\n",
              "    </tr>\n",
              "    <tr>\n",
              "      <th>136808</th>\n",
              "      <td>রাজনীতি ছাড়তে চান</td>\n",
              "      <td>national</td>\n",
              "      <td>Dainik Inqilab</td>\n",
              "    </tr>\n",
              "    <tr>\n",
              "      <th>136809</th>\n",
              "      <td>বিএনপি নির্বাচনী ভীতিতে ভুগছে</td>\n",
              "      <td>national</td>\n",
              "      <td>Dainik Inqilab</td>\n",
              "    </tr>\n",
              "    <tr>\n",
              "      <th>136810</th>\n",
              "      <td>লোভের আগুনে পুড়ে আর প্রাণহানি নয় শিল্পকলা একাড...</td>\n",
              "      <td>national</td>\n",
              "      <td>Dainik Inqilab</td>\n",
              "    </tr>\n",
              "  </tbody>\n",
              "</table>\n",
              "<p>136811 rows × 3 columns</p>\n",
              "</div>\n",
              "    <div class=\"colab-df-buttons\">\n",
              "\n",
              "  <div class=\"colab-df-container\">\n",
              "    <button class=\"colab-df-convert\" onclick=\"convertToInteractive('df-891ca562-a5b8-43c5-b4b0-929114a88c5e')\"\n",
              "            title=\"Convert this dataframe to an interactive table.\"\n",
              "            style=\"display:none;\">\n",
              "\n",
              "  <svg xmlns=\"http://www.w3.org/2000/svg\" height=\"24px\" viewBox=\"0 -960 960 960\">\n",
              "    <path d=\"M120-120v-720h720v720H120Zm60-500h600v-160H180v160Zm220 220h160v-160H400v160Zm0 220h160v-160H400v160ZM180-400h160v-160H180v160Zm440 0h160v-160H620v160ZM180-180h160v-160H180v160Zm440 0h160v-160H620v160Z\"/>\n",
              "  </svg>\n",
              "    </button>\n",
              "\n",
              "  <style>\n",
              "    .colab-df-container {\n",
              "      display:flex;\n",
              "      gap: 12px;\n",
              "    }\n",
              "\n",
              "    .colab-df-convert {\n",
              "      background-color: #E8F0FE;\n",
              "      border: none;\n",
              "      border-radius: 50%;\n",
              "      cursor: pointer;\n",
              "      display: none;\n",
              "      fill: #1967D2;\n",
              "      height: 32px;\n",
              "      padding: 0 0 0 0;\n",
              "      width: 32px;\n",
              "    }\n",
              "\n",
              "    .colab-df-convert:hover {\n",
              "      background-color: #E2EBFA;\n",
              "      box-shadow: 0px 1px 2px rgba(60, 64, 67, 0.3), 0px 1px 3px 1px rgba(60, 64, 67, 0.15);\n",
              "      fill: #174EA6;\n",
              "    }\n",
              "\n",
              "    .colab-df-buttons div {\n",
              "      margin-bottom: 4px;\n",
              "    }\n",
              "\n",
              "    [theme=dark] .colab-df-convert {\n",
              "      background-color: #3B4455;\n",
              "      fill: #D2E3FC;\n",
              "    }\n",
              "\n",
              "    [theme=dark] .colab-df-convert:hover {\n",
              "      background-color: #434B5C;\n",
              "      box-shadow: 0px 1px 3px 1px rgba(0, 0, 0, 0.15);\n",
              "      filter: drop-shadow(0px 1px 2px rgba(0, 0, 0, 0.3));\n",
              "      fill: #FFFFFF;\n",
              "    }\n",
              "  </style>\n",
              "\n",
              "    <script>\n",
              "      const buttonEl =\n",
              "        document.querySelector('#df-891ca562-a5b8-43c5-b4b0-929114a88c5e button.colab-df-convert');\n",
              "      buttonEl.style.display =\n",
              "        google.colab.kernel.accessAllowed ? 'block' : 'none';\n",
              "\n",
              "      async function convertToInteractive(key) {\n",
              "        const element = document.querySelector('#df-891ca562-a5b8-43c5-b4b0-929114a88c5e');\n",
              "        const dataTable =\n",
              "          await google.colab.kernel.invokeFunction('convertToInteractive',\n",
              "                                                    [key], {});\n",
              "        if (!dataTable) return;\n",
              "\n",
              "        const docLinkHtml = 'Like what you see? Visit the ' +\n",
              "          '<a target=\"_blank\" href=https://colab.research.google.com/notebooks/data_table.ipynb>data table notebook</a>'\n",
              "          + ' to learn more about interactive tables.';\n",
              "        element.innerHTML = '';\n",
              "        dataTable['output_type'] = 'display_data';\n",
              "        await google.colab.output.renderOutput(dataTable, element);\n",
              "        const docLink = document.createElement('div');\n",
              "        docLink.innerHTML = docLinkHtml;\n",
              "        element.appendChild(docLink);\n",
              "      }\n",
              "    </script>\n",
              "  </div>\n",
              "\n",
              "\n",
              "<div id=\"df-b0523f1a-d522-4246-b699-64a84f5878e4\">\n",
              "  <button class=\"colab-df-quickchart\" onclick=\"quickchart('df-b0523f1a-d522-4246-b699-64a84f5878e4')\"\n",
              "            title=\"Suggest charts.\"\n",
              "            style=\"display:none;\">\n",
              "\n",
              "<svg xmlns=\"http://www.w3.org/2000/svg\" height=\"24px\"viewBox=\"0 0 24 24\"\n",
              "     width=\"24px\">\n",
              "    <g>\n",
              "        <path d=\"M19 3H5c-1.1 0-2 .9-2 2v14c0 1.1.9 2 2 2h14c1.1 0 2-.9 2-2V5c0-1.1-.9-2-2-2zM9 17H7v-7h2v7zm4 0h-2V7h2v10zm4 0h-2v-4h2v4z\"/>\n",
              "    </g>\n",
              "</svg>\n",
              "  </button>\n",
              "\n",
              "<style>\n",
              "  .colab-df-quickchart {\n",
              "      --bg-color: #E8F0FE;\n",
              "      --fill-color: #1967D2;\n",
              "      --hover-bg-color: #E2EBFA;\n",
              "      --hover-fill-color: #174EA6;\n",
              "      --disabled-fill-color: #AAA;\n",
              "      --disabled-bg-color: #DDD;\n",
              "  }\n",
              "\n",
              "  [theme=dark] .colab-df-quickchart {\n",
              "      --bg-color: #3B4455;\n",
              "      --fill-color: #D2E3FC;\n",
              "      --hover-bg-color: #434B5C;\n",
              "      --hover-fill-color: #FFFFFF;\n",
              "      --disabled-bg-color: #3B4455;\n",
              "      --disabled-fill-color: #666;\n",
              "  }\n",
              "\n",
              "  .colab-df-quickchart {\n",
              "    background-color: var(--bg-color);\n",
              "    border: none;\n",
              "    border-radius: 50%;\n",
              "    cursor: pointer;\n",
              "    display: none;\n",
              "    fill: var(--fill-color);\n",
              "    height: 32px;\n",
              "    padding: 0;\n",
              "    width: 32px;\n",
              "  }\n",
              "\n",
              "  .colab-df-quickchart:hover {\n",
              "    background-color: var(--hover-bg-color);\n",
              "    box-shadow: 0 1px 2px rgba(60, 64, 67, 0.3), 0 1px 3px 1px rgba(60, 64, 67, 0.15);\n",
              "    fill: var(--button-hover-fill-color);\n",
              "  }\n",
              "\n",
              "  .colab-df-quickchart-complete:disabled,\n",
              "  .colab-df-quickchart-complete:disabled:hover {\n",
              "    background-color: var(--disabled-bg-color);\n",
              "    fill: var(--disabled-fill-color);\n",
              "    box-shadow: none;\n",
              "  }\n",
              "\n",
              "  .colab-df-spinner {\n",
              "    border: 2px solid var(--fill-color);\n",
              "    border-color: transparent;\n",
              "    border-bottom-color: var(--fill-color);\n",
              "    animation:\n",
              "      spin 1s steps(1) infinite;\n",
              "  }\n",
              "\n",
              "  @keyframes spin {\n",
              "    0% {\n",
              "      border-color: transparent;\n",
              "      border-bottom-color: var(--fill-color);\n",
              "      border-left-color: var(--fill-color);\n",
              "    }\n",
              "    20% {\n",
              "      border-color: transparent;\n",
              "      border-left-color: var(--fill-color);\n",
              "      border-top-color: var(--fill-color);\n",
              "    }\n",
              "    30% {\n",
              "      border-color: transparent;\n",
              "      border-left-color: var(--fill-color);\n",
              "      border-top-color: var(--fill-color);\n",
              "      border-right-color: var(--fill-color);\n",
              "    }\n",
              "    40% {\n",
              "      border-color: transparent;\n",
              "      border-right-color: var(--fill-color);\n",
              "      border-top-color: var(--fill-color);\n",
              "    }\n",
              "    60% {\n",
              "      border-color: transparent;\n",
              "      border-right-color: var(--fill-color);\n",
              "    }\n",
              "    80% {\n",
              "      border-color: transparent;\n",
              "      border-right-color: var(--fill-color);\n",
              "      border-bottom-color: var(--fill-color);\n",
              "    }\n",
              "    90% {\n",
              "      border-color: transparent;\n",
              "      border-bottom-color: var(--fill-color);\n",
              "    }\n",
              "  }\n",
              "</style>\n",
              "\n",
              "  <script>\n",
              "    async function quickchart(key) {\n",
              "      const quickchartButtonEl =\n",
              "        document.querySelector('#' + key + ' button');\n",
              "      quickchartButtonEl.disabled = true;  // To prevent multiple clicks.\n",
              "      quickchartButtonEl.classList.add('colab-df-spinner');\n",
              "      try {\n",
              "        const charts = await google.colab.kernel.invokeFunction(\n",
              "            'suggestCharts', [key], {});\n",
              "      } catch (error) {\n",
              "        console.error('Error during call to suggestCharts:', error);\n",
              "      }\n",
              "      quickchartButtonEl.classList.remove('colab-df-spinner');\n",
              "      quickchartButtonEl.classList.add('colab-df-quickchart-complete');\n",
              "    }\n",
              "    (() => {\n",
              "      let quickchartButtonEl =\n",
              "        document.querySelector('#df-b0523f1a-d522-4246-b699-64a84f5878e4 button');\n",
              "      quickchartButtonEl.style.display =\n",
              "        google.colab.kernel.accessAllowed ? 'block' : 'none';\n",
              "    })();\n",
              "  </script>\n",
              "</div>\n",
              "    </div>\n",
              "  </div>\n"
            ]
          },
          "metadata": {},
          "execution_count": 3
        }
      ],
      "source": [
        "df = pd.read_csv(\"/content/drive/MyDrive/data/data.csv\")\n",
        "df"
      ]
    },
    {
      "cell_type": "markdown",
      "metadata": {
        "id": "-G7zm7QiqVop"
      },
      "source": [
        "## Plotting the Dataset Category Distribution"
      ]
    },
    {
      "cell_type": "code",
      "execution_count": null,
      "metadata": {
        "colab": {
          "base_uri": "https://localhost:8080/"
        },
        "id": "QG7mVbfpC2rb",
        "outputId": "a8648c6f-d195-4f50-81b6-87af403c5dad"
      },
      "outputs": [
        {
          "output_type": "stream",
          "name": "stdout",
          "text": [
            "Total number of headlines: 136811\n"
          ]
        },
        {
          "output_type": "display_data",
          "data": {
            "text/plain": [
              "<Figure size 600x500 with 1 Axes>"
            ],
            "image/png": "[encoded data removed]"
          },
          "metadata": {}
        }
      ],
      "source": [
        "data = pd.read_csv('/content/drive/MyDrive/data/data.csv',encoding='utf-8')\n",
        "print(f'Total number of headlines: {len(data)}')\n",
        "sns.set(font_scale=1.4)\n",
        "data['category'].value_counts().plot(kind='barh', figsize=(6, 5))\n",
        "plt.xlabel(\"Number of Headlines\", labelpad=10)\n",
        "plt.ylabel(\"Category\", labelpad=12)\n",
        "plt.yticks(rotation = 45)\n",
        "plt.title(\"Dataset Category Distribution\", y=1.02);"
      ]
    },
    {
      "cell_type": "markdown",
      "metadata": {
        "id": "fUlJc3yhqedv"
      },
      "source": [
        "## Showing the number of coulumns"
      ]
    },
    {
      "cell_type": "code",
      "execution_count": null,
      "metadata": {
        "colab": {
          "base_uri": "https://localhost:8080/"
        },
        "id": "6ulS6Y8Zg2m1",
        "outputId": "9f83f4d5-60d1-4d0f-d147-c06fd418c791"
      },
      "outputs": [
        {
          "output_type": "execute_result",
          "data": {
            "text/plain": [
              "Index(['headline', 'category', 'newspaper name'], dtype='object')"
            ]
          },
          "metadata": {},
          "execution_count": 5
        }
      ],
      "source": [
        "data.columns"
      ]
    },
    {
      "cell_type": "markdown",
      "metadata": {
        "id": "VRXsYeIdqrwm"
      },
      "source": [
        "## Removing the unnecessary symbol using RegEx expression."
      ]
    },
    {
      "cell_type": "code",
      "execution_count": null,
      "metadata": {
        "colab": {
          "base_uri": "https://localhost:8080/"
        },
        "id": "Y7fi07cqg9pU",
        "outputId": "0970cc0b-b913-4d99-8055-2816e42abf14"
      },
      "outputs": [
        {
          "output_type": "stream",
          "name": "stdout",
          "text": [
            "Original:  ‘মামা সব মশার জামিন হয়ে গেছে’ \n",
            "Cleaned:  মামা সব মশার জামিন হয়ে গেছে  \n",
            " Category:--  Amusement \n",
            "\n",
            "Original:  মহাকাশে বঙ্গবন্ধু স্যাটেলাইট উৎক্ষেপণ সরাসরি দেখবেন যেভাবে \n",
            "Cleaned: মহাকাশে বঙ্গবন্ধু স্যাটেলাইট উৎক্ষেপণ সরাসরি দেখবেন যেভাবে \n",
            " Category:--  IT \n",
            "\n",
            "Original:  খালাস চেয়ে খালেদা জিয়ার আপিল শুনানি ৮ আগস্ট পর্যন্ত মুলতবি \n",
            "Cleaned: খালাস চেয়ে খালেদা জিয়ার আপিল শুনানি ৮ আগস্ট পর্যন্ত মুলতবি \n",
            " Category:--  politics \n",
            "\n",
            "Original:  প্রথম ফাইভজি চালু হল দ. কোরিয়ায় \n",
            "Cleaned: প্রথম ফাইভজি চালু হল দ  কোরিয়ায় \n",
            " Category:--  International \n",
            "\n",
            "Original:  মেক্সিকো সীমান্তে সেনা পাঠাচ্ছেন ট্রাম্প \n",
            "Cleaned: মেক্সিকো সীমান্তে সেনা পাঠাচ্ছেন ট্রাম্প \n",
            " Category:--  International \n",
            "\n",
            "Original:  সেরাটা দিতে পারলে সিরিজ জিতবে বাংলাদেশ: মাশরাফি \n",
            "Cleaned: সেরাটা দিতে পারলে সিরিজ জিতবে বাংলাদেশ  মাশরাফি \n",
            " Category:--  sports \n",
            "\n",
            "Original:  রোহিতের আয় জানলে অবাক হবেন \n",
            "Cleaned: রোহিতের আয় জানলে অবাক হবেন \n",
            " Category:--  sports \n",
            "\n",
            "Original:  কংগ্রেস সভাপতির পদ থেকে রাহুল গান্ধীর পদত্যাগ \n",
            "Cleaned: কংগ্রেস সভাপতির পদ থেকে রাহুল গান্ধীর পদত্যাগ \n",
            " Category:--  International \n",
            "\n",
            "Original:  তৃতীয়-চতুর্থ শ্রেণির নিয়োগও হবে পিএসসির মাধ্যমে \n",
            "Cleaned: তৃতীয় চতুর্থ শ্রেণির নিয়োগও হবে পিএসসির মাধ্যমে \n",
            " Category:--  national \n",
            "\n",
            "Original:  হবু স্বামী মারা গেছেন... \n",
            "Cleaned: হবু স্বামী মারা গেছেন    \n",
            " Category:--  International \n",
            "\n",
            "Original:  ইন্টারনেট বলছে, ‘উফ্ ভাবিজি’ \n",
            "Cleaned: ইন্টারনেট বলছে   উফ্ ভাবিজি  \n",
            " Category:--  International \n",
            "\n",
            "Original:  মিয়ানমারে গণহত্যার জোরালো প্রমাণ পাওয়া গেছে \n",
            "Cleaned: মিয়ানমারে গণহত্যার জোরালো প্রমাণ পাওয়া গেছে \n",
            " Category:--  International \n",
            "\n",
            "Original:  চাঁদে পর্যটক পাঠাবে স্পেসএক্স \n",
            "Cleaned: চাঁদে পর্যটক পাঠাবে স্পেসএক্স \n",
            " Category:--  International \n",
            "\n",
            "Original:  আফগান বিমান ঘাঁটিতে বিস্ফোরণ নিহত ৩ \n",
            "Cleaned: আফগান বিমান ঘাঁটিতে বিস্ফোরণ নিহত ৩ \n",
            " Category:--  International \n",
            "\n",
            "Original:  কমার্স কলেজের বার্ষিক ক্রীড়া \n",
            "Cleaned: কমার্স কলেজের বার্ষিক ক্রীড়া \n",
            " Category:--  sports \n",
            "\n"
          ]
        }
      ],
      "source": [
        "# Cleaning Data [Remove unncessary symbols]\n",
        "def cleaning_data(row):\n",
        "      headlines = re.sub('[^\\u0980-\\u09FF]',' ',str(row)) #removing unnecessary punctuation\n",
        "      return headlines\n",
        "# Apply the function into the dataframe\n",
        "data['cleaned'] = data['headline'].apply(cleaning_data)\n",
        "\n",
        "# print some cleaned reviews from the dataset\n",
        "sample_data = [3000,6000,9000,21000,31000,35000,41000,45000,50000,61000,65000,71000,76000,81000,100000]\n",
        "for i in sample_data:\n",
        "  print('Original: ',data.headline[i],'\\nCleaned:',\n",
        "           data.cleaned[i],'\\n','Category:-- ',data.category[i],'\\n')"
      ]
    },
    {
      "cell_type": "markdown",
      "metadata": {
        "id": "nDngn4qAq5UX"
      },
      "source": [
        "## Remove smaller headlines."
      ]
    },
    {
      "cell_type": "code",
      "execution_count": null,
      "metadata": {
        "colab": {
          "base_uri": "https://localhost:8080/"
        },
        "id": "L83ES6I1OxrZ",
        "outputId": "93420615-ac54-4a85-9049-da16912ec162"
      },
      "outputs": [
        {
          "output_type": "stream",
          "name": "stdout",
          "text": [
            "After Cleaning: \n",
            "Removed 4098 Small Headlines \n",
            "Total Headlines: 132713\n"
          ]
        }
      ],
      "source": [
        "# Length of each headlines\n",
        "data['length'] = data['cleaned'].apply(lambda x:len(x.split()))\n",
        "# Remove the headlines with least words\n",
        "dataset = data.loc[data.length>2]\n",
        "dataset = dataset.reset_index(drop = True)\n",
        "print(\"After Cleaning:\",\"\\nRemoved {} Small Headlines\".format(len(data)-len(dataset)),\n",
        "      \"\\nTotal Headlines:\",len(dataset))"
      ]
    },
    {
      "cell_type": "markdown",
      "metadata": {
        "id": "k3t6czmUrA3w"
      },
      "source": [
        "## Showing number of total data by category, uniques word and most frequent words."
      ]
    },
    {
      "cell_type": "code",
      "execution_count": null,
      "metadata": {
        "colab": {
          "base_uri": "https://localhost:8080/"
        },
        "id": "7rG9Fo4XZwAT",
        "outputId": "a75dd8af-10dc-4029-88c5-4f5e0657719c"
      },
      "outputs": [
        {
          "output_type": "stream",
          "name": "stdout",
          "text": [
            "\n",
            "Class Name :  International\n",
            "Number of Documents:47885\n",
            "Number of Words:307354\n",
            "Number of Unique Words:28710\n",
            "Most Frequent Words:\n",
            "\n",
            "নিহত\t3398\n",
            "না\t2133\n",
            "নিয়ে\t1634\n",
            "ট্রাম্প\t1472\n",
            "মার্কিন\t1434\n",
            "ও\t1342\n",
            "থেকে\t1332\n",
            "ভারতের\t1212\n",
            "যুক্তরাষ্ট্র\t1208\n",
            "ভারত\t1192\n",
            "\n",
            "Class Name :  sports\n",
            "Number of Documents:30831\n",
            "Number of Words:152852\n",
            "Number of Unique Words:18581\n",
            "Most Frequent Words:\n",
            "\n",
            "বাংলাদেশ\t1581\n",
            "না\t1122\n",
            "জয়\t883\n",
            "বাংলাদেশের\t873\n",
            "শুরু\t782\n",
            "নিয়ে\t689\n",
            "সাকিব\t672\n",
            "ভারত\t619\n",
            "শেষ\t603\n",
            "দল\t573\n",
            "\n",
            "Class Name :  national\n",
            "Number of Documents:24557\n",
            "Number of Words:158042\n",
            "Number of Unique Words:20710\n",
            "Most Frequent Words:\n",
            "\n",
            "না\t1444\n",
            "হবে\t1292\n",
            "ও\t1215\n",
            "প্রধানমন্ত্রী\t1003\n",
            "আজ\t752\n",
            "থেকে\t617\n",
            "কাদের\t613\n",
            "খালেদা\t566\n",
            "বিএনপি\t557\n",
            "নিয়ে\t556\n",
            "\n",
            "Class Name :  Amusement\n",
            "Number of Documents:16067\n",
            "Number of Words:98582\n",
            "Number of Unique Words:16622\n",
            "Most Frequent Words:\n",
            "\n",
            "নতুন\t1158\n",
            "নিয়ে\t1074\n",
            "ও\t1003\n",
            "গান\t683\n",
            "ভিডিও\t517\n",
            "না\t484\n",
            "নাটক\t469\n",
            "খান\t461\n",
            "চলচ্চিত্র\t416\n",
            "আজ\t412\n",
            "\n",
            "Class Name :  politics\n",
            "Number of Documents:10577\n",
            "Number of Words:75657\n",
            "Number of Unique Words:10398\n",
            "Most Frequent Words:\n",
            "\n",
            "খালেদা\t1260\n",
            "বিএনপি\t918\n",
            "বিএনপির\t907\n",
            "না\t880\n",
            "কাদের\t861\n",
            "আ\t821\n",
            "জিয়ার\t820\n",
            "লীগের\t589\n",
            "হবে\t492\n",
            "লীগ\t477\n",
            "\n",
            "Class Name :  IT\n",
            "Number of Documents:2796\n",
            "Number of Words:17692\n",
            "Number of Unique Words:5528\n",
            "Most Frequent Words:\n",
            "\n",
            "নতুন\t167\n",
            "ফেসবুক\t165\n",
            "ও\t143\n",
            "স্মার্টফোন\t107\n",
            "নিয়ে\t95\n",
            "থেকে\t94\n",
            "শুরু\t86\n",
            "ডিজিটাল\t80\n",
            "জন্য\t79\n",
            "মোবাইল\t75\n",
            "Total Number of Unique Words:57490\n"
          ]
        }
      ],
      "source": [
        "\n",
        "def data_summary(dataset):\n",
        "\n",
        "\n",
        "    documents = []\n",
        "    words = []\n",
        "    u_words = []\n",
        "    total_u_words = [word.strip().lower() for t in list(dataset.cleaned) for word in t.strip().split()]\n",
        "    class_label= [k for k,v in dataset.category.value_counts().to_dict().items()]\n",
        "  # find word list\n",
        "    for label in class_label:\n",
        "        word_list = [word.strip().lower() for t in list(dataset[dataset.category==label].cleaned) for word in t.strip().split()]\n",
        "        counts = dict()\n",
        "        for word in word_list:\n",
        "                counts[word] = counts.get(word, 0)+1\n",
        "        # sort the dictionary of word list\n",
        "        ordered = sorted(counts.items(), key= lambda item: item[1],reverse = True)\n",
        "        # Documents per class\n",
        "        documents.append(len(list(dataset[dataset.category==label].cleaned)))\n",
        "        # Total Word per class\n",
        "        words.append(len(word_list))\n",
        "        # Unique words per class\n",
        "        u_words.append(len(np.unique(word_list)))\n",
        "\n",
        "        print(\"\\nClass Name : \",label)\n",
        "        print(\"Number of Documents:{}\".format(len(list(dataset[dataset.category==label].cleaned))))\n",
        "        print(\"Number of Words:{}\".format(len(word_list)))\n",
        "        print(\"Number of Unique Words:{}\".format(len(np.unique(word_list))))\n",
        "        print(\"Most Frequent Words:\\n\")\n",
        "        for k,v in ordered[:10]:\n",
        "              print(\"{}\\t{}\".format(k,v))\n",
        "    print(\"Total Number of Unique Words:{}\".format(len(np.unique(total_u_words))))\n",
        "\n",
        "    return documents,words,u_words,class_label\n",
        "\n",
        "#call the fucntion\n",
        "documents,words,u_words,class_names = data_summary(dataset)"
      ]
    },
    {
      "cell_type": "markdown",
      "metadata": {
        "id": "hn8n_5V8rVHX"
      },
      "source": [
        "## Plotting words by category"
      ]
    },
    {
      "cell_type": "code",
      "execution_count": null,
      "metadata": {
        "colab": {
          "base_uri": "https://localhost:8080/"
        },
        "id": "7WWeotoMZ5u6",
        "outputId": "993f3f15-e924-4ab3-c106-af4e3afb20bc"
      },
      "outputs": [
        {
          "output_type": "display_data",
          "data": {
            "text/plain": [
              "<Figure size 800x600 with 1 Axes>"
            ],
            "image/png": "[encoded data removed]"
          },
          "metadata": {}
        }
      ],
      "source": [
        "\n",
        "data_matrix = pd.DataFrame({'Total Documents':documents,\n",
        "                            'Total Words':words,\n",
        "                            'Unique Words':u_words,\n",
        "                            'Class Names':class_names})\n",
        "df = pd.melt(data_matrix, id_vars=\"Class Names\", var_name=\"Category\", value_name=\"Values\")\n",
        "plt.figure(figsize=(8, 6))\n",
        "ax = plt.subplot()\n",
        "\n",
        "sns.barplot(data=df,x='Class Names', y='Values' ,hue='Category')\n",
        "ax.set_xlabel('Class Names')\n",
        "ax.set_title('Data Statistics')\n",
        "\n",
        "ax.xaxis.set_ticklabels(class_names, rotation=45);"
      ]
    },
    {
      "cell_type": "markdown",
      "metadata": {
        "id": "scvM9iqfrdxQ"
      },
      "source": [
        "## Plotting thee frequency distribution."
      ]
    },
    {
      "cell_type": "code",
      "execution_count": null,
      "metadata": {
        "colab": {
          "base_uri": "https://localhost:8080/"
        },
        "id": "-Y_2ATQ5Z9Cr",
        "outputId": "26e54b8e-1422-4ca7-9f74-ace866488607"
      },
      "outputs": [
        {
          "output_type": "display_data",
          "data": {
            "text/plain": [
              "<Figure size 640x480 with 1 Axes>"
            ],
            "image/png": "[encoded data removed]"
          },
          "metadata": {}
        },
        {
          "output_type": "stream",
          "name": "stdout",
          "text": [
            "Maximum Length of a headline: 21\n",
            "Minimum Length of a headline: 3\n",
            "Average Length of a headline: 6.0\n"
          ]
        }
      ],
      "source": [
        "# Calculate the Review of each of the Review\n",
        "dataset['HeadlineLength'] = dataset.cleaned.apply(lambda x:len(x.split()))\n",
        "frequency = dict()\n",
        "for i in dataset.HeadlineLength:\n",
        "    frequency[i] = frequency.get(i, 0)+1\n",
        "\n",
        "plt.bar(frequency.keys(), frequency.values(), color =\"b\")\n",
        "plt.xlim(1, 20)\n",
        "# in this notbook color is not working but it should work.\n",
        "plt.xlabel('Length of the Headlines')\n",
        "plt.ylabel('Frequency')\n",
        "plt.title('Length-Frequency Distribution')\n",
        "plt.show()\n",
        "print(f\"Maximum Length of a headline: {max(dataset.HeadlineLength)}\")\n",
        "print(f\"Minimum Length of a headline: {min(dataset.HeadlineLength)}\")\n",
        "print(f\"Average Length of a headline: {round(np.mean(dataset.HeadlineLength),0)}\")"
      ]
    },
    {
      "cell_type": "markdown",
      "metadata": {
        "id": "mXkv2xNnrl_B"
      },
      "source": [
        "## Label encoding and Dataset splitting in Training and Testing set."
      ]
    },
    {
      "cell_type": "code",
      "execution_count": null,
      "metadata": {
        "id": "cNNhiZe2qcYM"
      },
      "outputs": [],
      "source": [
        "def label_encoding(category,bool):\n",
        "    \"\"\"\n",
        "    This function will return the encoded labels in array format.\n",
        "\n",
        "    Args:\n",
        "        category: series of class names(str)\n",
        "        bool: boolean (True or False)\n",
        "\n",
        "    Returns:\n",
        "        labels: numpy array\n",
        "    \"\"\"\n",
        "    le = LabelEncoder()\n",
        "    le.fit(category)\n",
        "    encoded_labels = le.transform(category)\n",
        "    labels = np.array(encoded_labels) # Converting into numpy array\n",
        "    class_names =le.classes_ ## Define the class names again\n",
        "    if bool == True:\n",
        "        print(\"\\n\\t\\t\\t===== Label Encoding =====\",\"\\nClass Names:-->\",le.classes_)\n",
        "        for i in sample_data:\n",
        "            print(category[i],' ', encoded_labels[i],'\\n')\n",
        "\n",
        "    return labels\n",
        "\n",
        "\n",
        "\n",
        "                           #===========================================================\n",
        "                           ################# Dataset Splitting Function ###############\n",
        "                           #===========================================================\n",
        "\n",
        "def dataset_split(headlines,category):\n",
        "\n",
        "\n",
        "    X,X_test,y,y_test = train_test_split(headlines,category,train_size = 0.9,\n",
        "                                                  test_size = 0.1,random_state =0)\n",
        "    X_train,X_valid,y_train,y_valid = train_test_split(X,y,train_size = 0.8,\n",
        "                                                  test_size = 0.2,random_state =0)\n",
        "    print(color.BOLD+\"\\nDataset Distribution:\\n\"+color.END)\n",
        "    print(\"\\tSet Name\",\"\\t\\tSize\")\n",
        "    print(\"\\t========\\t\\t======\")\n",
        "\n",
        "    print(\"\\tFull\\t\\t\\t\",len(headlines),\n",
        "        \"\\n\\tTraining\\t\\t\",len(X_train),\n",
        "        \"\\n\\tTest\\t\\t\\t\",len(X_test),\n",
        "        \"\\n\\tValidation\\t\\t\",len(X_valid))\n",
        "\n",
        "    return X_train,X_valid,X_test,y_train,y_valid,y_test"
      ]
    },
    {
      "cell_type": "markdown",
      "metadata": {
        "id": "x1uN31Jor1Ve"
      },
      "source": [
        "##Showing the Label Encoding result."
      ]
    },
    {
      "cell_type": "code",
      "execution_count": null,
      "metadata": {
        "colab": {
          "base_uri": "https://localhost:8080/"
        },
        "id": "kKf4zpuQrWJu",
        "outputId": "347c54be-428c-4c31-8eb3-186bd4faf829"
      },
      "outputs": [
        {
          "output_type": "stream",
          "name": "stdout",
          "text": [
            "\n",
            "\t\t\t===== Label Encoding ===== \n",
            "Class Names:--> ['Amusement' 'IT' 'International' 'national' 'politics' 'sports']\n",
            "Amusement   0 \n",
            "\n",
            "IT   1 \n",
            "\n",
            "politics   4 \n",
            "\n",
            "International   2 \n",
            "\n",
            "sports   5 \n",
            "\n",
            "sports   5 \n",
            "\n",
            "sports   5 \n",
            "\n",
            "International   2 \n",
            "\n",
            "national   3 \n",
            "\n",
            "International   2 \n",
            "\n",
            "International   2 \n",
            "\n",
            "International   2 \n",
            "\n",
            "International   2 \n",
            "\n",
            "International   2 \n",
            "\n",
            "Amusement   0 \n",
            "\n"
          ]
        }
      ],
      "source": [
        "labels = label_encoding(dataset.category,True)\n"
      ]
    },
    {
      "cell_type": "markdown",
      "metadata": {
        "id": "QFSYLwuwr8lY"
      },
      "source": [
        "## Splitting data dataset into Training Testind and Validation set."
      ]
    },
    {
      "cell_type": "code",
      "execution_count": null,
      "metadata": {
        "colab": {
          "base_uri": "https://localhost:8080/"
        },
        "id": "1qd8gHQUr2JL",
        "outputId": "0cb80cec-6ee9-490f-f853-c66927659121"
      },
      "outputs": [
        {
          "output_type": "stream",
          "name": "stdout",
          "text": [
            "\u001b[1m\n",
            "Dataset Distribution:\n",
            "\u001b[0m\n",
            "\tSet Name \t\tSize\n",
            "\t========\t\t======\n",
            "\tFull\t\t\t 132713 \n",
            "\tTraining\t\t 95552 \n",
            "\tTest\t\t\t 13272 \n",
            "\tValidation\t\t 23889\n"
          ]
        }
      ],
      "source": [
        "\n",
        "X_train,X_valid,X_test,y_train,y_valid,y_test = dataset_split(dataset.headline,labels)"
      ]
    },
    {
      "cell_type": "markdown",
      "metadata": {
        "id": "kqX4d0MWsNV2"
      },
      "source": [
        "## Determine the vocab size , embedding dimension, lenght, truncation, padding and oov_token."
      ]
    },
    {
      "cell_type": "code",
      "execution_count": null,
      "metadata": {
        "id": "8f8s4VyMr7ML"
      },
      "outputs": [],
      "source": [
        "vocab_size = 57000\n",
        "embedding_dim = 64\n",
        "max_length = 12\n",
        "trunc_type='post'\n",
        "padding_type='post'\n",
        "oov_tok = \"\"\n",
        "\n",
        "def padded_headlines(original,encoded,padded):\n",
        "  '''\n",
        "  print the samples padded headlines\n",
        "  '''\n",
        "  print(color.BOLD+\"\\n\\t\\t\\t====== Encoded Sequences ======\"+color.END,\"\\n\")\n",
        "  print(original,\"\\n\",encoded)\n",
        "  print(color.BOLD+\"\\n\\t\\t\\t====== Paded Sequences ======\\n\"+color.END,original,\"\\n\",padded)"
      ]
    },
    {
      "cell_type": "markdown",
      "metadata": {
        "id": "GrbiTnnXslAo"
      },
      "source": [
        "## Tokenizing the Training Data"
      ]
    },
    {
      "cell_type": "code",
      "execution_count": null,
      "metadata": {
        "id": "-ypvO9tCsAbt"
      },
      "outputs": [],
      "source": [
        "# Train Data Tokenization\n",
        "tokenizer = Tokenizer(num_words = vocab_size, oov_token=oov_tok)\n",
        "tokenizer.fit_on_texts(X_train)\n",
        "word_index = tokenizer.word_index\n",
        "train_sequences = tokenizer.texts_to_sequences(X_train)\n",
        "train_padded = pad_sequences(train_sequences, padding=padding_type, maxlen=max_length)"
      ]
    },
    {
      "cell_type": "markdown",
      "metadata": {
        "id": "MYL6kN5kst_o"
      },
      "source": [
        "## Details of tokenization."
      ]
    },
    {
      "cell_type": "code",
      "execution_count": null,
      "metadata": {
        "colab": {
          "base_uri": "https://localhost:8080/"
        },
        "id": "b9l1yYOTsE2U",
        "outputId": "797c0bb2-a033-4f6c-e09d-8550e719d085"
      },
      "outputs": [
        {
          "output_type": "stream",
          "name": "stdout",
          "text": [
            "\u001b[1m\t\t\t====== Tokenizer Info ======\u001b[0m\n",
            "Words --> Counts:\n",
            "না \t 4125\n",
            "নিয়ে \t 3213\n",
            "ও \t 3201\n",
            "নিহত \t 2683\n",
            "নতুন \t 2288\n",
            "হবে \t 2193\n",
            "থেকে \t 2165\n",
            "বাংলাদেশ \t 1741\n",
            "সঙ্গে \t 1692\n",
            "করে \t 1510\n",
            "\n",
            "Words --> Documents:\n",
            "না \t 4031\n",
            "নিয়ে \t 3204\n",
            "ও \t 3173\n",
            "নিহত \t 2681\n",
            "নতুন \t 2273\n",
            "হবে \t 2182\n",
            "থেকে \t 2162\n",
            "বাংলাদেশ \t 1737\n",
            "সঙ্গে \t 1684\n",
            "করে \t 1499\n",
            "\n",
            "Words --> Index:\n",
            "মিসিসিপিতে \t 55055\n",
            "ইয়ামেনি \t 55054\n",
            "ওকিনাওয়ায় \t 55053\n",
            "শনাক্তকরণের \t 55052\n",
            "আবিষ্কৃত \t 55051\n",
            "বেলজীয় \t 55050\n",
            "পুজদেমনকে \t 55049\n",
            "‘গান’ \t 55048\n",
            "বেস \t 55047\n",
            "ইনস্ট্রুমেন্টাল \t 55046\n",
            "\n",
            "Total Documents --> 95552\n",
            "Found 55055 unique tokens\n"
          ]
        }
      ],
      "source": [
        " #============================== Tokenizer Info =================================\n",
        "(word_counts,word_docs,word_index,document_count) = (tokenizer.word_counts,\n",
        "                                                       tokenizer.word_docs,\n",
        "                                                       tokenizer.word_index,\n",
        "                                                       tokenizer.document_count)\n",
        "def tokenizer_info(mylist,bool):\n",
        "  ordered = sorted(mylist.items(), key= lambda item: item[1],reverse = bool)\n",
        "  for w,c in ordered[:10]:\n",
        "    print(w,\"\\t\",c)\n",
        "  #=============================== Print all the information =========================\n",
        "print(color.BOLD+\"\\t\\t\\t====== Tokenizer Info ======\"+color.END)\n",
        "print(\"Words --> Counts:\")\n",
        "tokenizer_info(word_counts,bool =True )\n",
        "print(\"\\nWords --> Documents:\")\n",
        "tokenizer_info(word_docs,bool =True )\n",
        "print(\"\\nWords --> Index:\")\n",
        "tokenizer_info(word_index,bool =True )\n",
        "print(\"\\nTotal Documents -->\",document_count)\n",
        "print(f\"Found {len(word_index)} unique tokens\")"
      ]
    },
    {
      "cell_type": "markdown",
      "metadata": {
        "id": "486s-mLrs2aI"
      },
      "source": [
        "## Padded Sequence"
      ]
    },
    {
      "cell_type": "code",
      "execution_count": null,
      "metadata": {
        "colab": {
          "base_uri": "https://localhost:8080/"
        },
        "id": "6hyISkDAsOBM",
        "outputId": "5f83f437-a056-4283-ef00-e3819edc58f6"
      },
      "outputs": [
        {
          "output_type": "stream",
          "name": "stdout",
          "text": [
            "\u001b[1m\n",
            "\t\t\t====== Encoded Sequences ======\u001b[0m \n",
            "\n",
            "অসুস্থ হয়ে ফের হাসপাতালে দিলীপ কুমার \n",
            " [477, 350, 2638, 1194]\n",
            "\u001b[1m\n",
            "\t\t\t====== Paded Sequences ======\n",
            "\u001b[0m অসুস্থ হয়ে ফের হাসপাতালে দিলীপ কুমার \n",
            " [ 477  350 2638 1194    0    0    0    0    0    0    0    0]\n"
          ]
        }
      ],
      "source": [
        "padded_headlines(X_train[120],train_sequences[120],train_padded[120])"
      ]
    },
    {
      "cell_type": "markdown",
      "metadata": {
        "id": "KTvr0wams8uG"
      },
      "source": [
        "## Validation Data Tokenization"
      ]
    },
    {
      "cell_type": "code",
      "execution_count": null,
      "metadata": {
        "colab": {
          "base_uri": "https://localhost:8080/"
        },
        "id": "j7GGtlzkslvT",
        "outputId": "09b03709-7842-4630-abfc-c37ba44ae1d6"
      },
      "outputs": [
        {
          "output_type": "stream",
          "name": "stdout",
          "text": [
            "\u001b[1m\n",
            "\t\t\t====== Encoded Sequences ======\u001b[0m \n",
            "\n",
            "জেলবন্দি তামিলদের মুক্তি দিতে পারেন রাজাপক্ষে \n",
            " [1, 1410, 161, 18585, 4123, 2124, 2521, 2, 851]\n",
            "\u001b[1m\n",
            "\t\t\t====== Paded Sequences ======\n",
            "\u001b[0m জেলবন্দি তামিলদের মুক্তি দিতে পারেন রাজাপক্ষে \n",
            " [    1  1410   161 18585  4123  2124  2521     2   851     0     0     0]\n"
          ]
        }
      ],
      "source": [
        "\n",
        "# Validation Data Tokenization\n",
        "validation_sequences = tokenizer.texts_to_sequences(X_valid)\n",
        "validation_padded = pad_sequences(validation_sequences, padding=padding_type , maxlen=max_length)\n",
        "padded_headlines(X_valid[61569],validation_sequences[1],validation_padded[1])"
      ]
    },
    {
      "cell_type": "markdown",
      "metadata": {
        "id": "kPRY3rJCtBx3"
      },
      "source": [
        "## Test data tokenization."
      ]
    },
    {
      "cell_type": "code",
      "execution_count": null,
      "metadata": {
        "colab": {
          "base_uri": "https://localhost:8080/"
        },
        "id": "Y4umV_tusrOT",
        "outputId": "ff5e05fb-60f5-4a24-cc49-0f45b19d6429"
      },
      "outputs": [
        {
          "output_type": "stream",
          "name": "stdout",
          "text": [
            "\u001b[1m\n",
            "\t\t\t====== Encoded Sequences ======\u001b[0m \n",
            "\n",
            "দেখতে পারেন শ্রীদেবীর সেরা ৪ ছবি (ভিডিও) \n",
            " [822, 466, 778, 54443]\n",
            "\u001b[1m\n",
            "\t\t\t====== Paded Sequences ======\n",
            "\u001b[0m দেখতে পারেন শ্রীদেবীর সেরা ৪ ছবি (ভিডিও) \n",
            " [  822   466   778 54443     0     0     0     0     0     0     0     0]\n"
          ]
        }
      ],
      "source": [
        "\n",
        "# Test Data Tokenization\n",
        "test_sequences = tokenizer.texts_to_sequences(X_test)\n",
        "test_padded = pad_sequences(test_sequences, padding=padding_type , maxlen=max_length)\n",
        "padded_headlines(X_test[100],test_sequences[100],test_padded[100])"
      ]
    },
    {
      "cell_type": "code",
      "execution_count": null,
      "metadata": {
        "id": "XkuQ8Yd5stxj"
      },
      "outputs": [],
      "source": [
        "\n",
        "# Labels Tokenization\n",
        "#label_tokenizer = Tokenizer()\n",
        "#label_tokenizer.fit_on_texts(dataset.category)\n",
        "\n",
        "train_label_seq = y_train\n",
        "valid_label_seq = y_valid\n",
        "testing_label_seq = y_test\n",
        "\n",
        "#print(train_label_seq.shape)\n",
        "#print(valid_label_seq.shape)\n",
        "#print(testing_label_seq.shape)"
      ]
    },
    {
      "cell_type": "markdown",
      "metadata": {
        "id": "Vg9LFOmCtLsZ"
      },
      "source": [
        "## Getting the GRU model ready with layers and callback function."
      ]
    },
    {
      "cell_type": "code",
      "execution_count": null,
      "metadata": {
        "colab": {
          "base_uri": "https://localhost:8080/"
        },
        "id": "0eW6mdsLsxEb",
        "outputId": "58a44439-4358-460e-aa7e-125bd7414308"
      },
      "outputs": [
        {
          "output_type": "stream",
          "name": "stdout",
          "text": [
            "Model: \"sequential\"\n",
            "_________________________________________________________________\n",
            " Layer (type)                Output Shape              Param #   \n",
            "=================================================================\n",
            " embedding (Embedding)       (None, 12, 64)            3648000   \n",
            "                                                                 \n",
            " bidirectional (Bidirectiona  (None, 128)              49920     \n",
            " l)                                                              \n",
            "                                                                 \n",
            " dense (Dense)               (None, 24)                3096      \n",
            "                                                                 \n",
            " flatten (Flatten)           (None, 24)                0         \n",
            "                                                                 \n",
            " dense_1 (Dense)             (None, 6)                 150       \n",
            "                                                                 \n",
            "=================================================================\n",
            "Total params: 3,701,166\n",
            "Trainable params: 3,701,166\n",
            "Non-trainable params: 0\n",
            "_________________________________________________________________\n"
          ]
        }
      ],
      "source": [
        "\n",
        "keras.backend.clear_session()\n",
        "accuracy_threshold = 0.97\n",
        "vocab_size = 57000\n",
        "embedding_dim = 64\n",
        "max_length = 12\n",
        "num_category = 6\n",
        "\n",
        "class myCallback(keras.callbacks.Callback):\n",
        "  def on_epoch_end(self, epoch, logs={}):\n",
        "      if(logs.get('accuracy')>accuracy_threshold):\n",
        "        print(\"\\nReached %2.2f%% accuracy so we will stop trianing\" % (accuracy_threshold*100))\n",
        "        self.model.stop_training = True\n",
        "\n",
        "acc_callback = myCallback()\n",
        "# Saved the Best Model\n",
        "filepath = path+\"Model.h5\"\n",
        "checkpoint = keras.callbacks.ModelCheckpoint(filepath, monitor='val_accuracy', verbose=2, save_best_only=True,\n",
        "                                             save_weights_only=False, mode='max')\n",
        "callback_list = [acc_callback, checkpoint]\n",
        "model = tf.keras.Sequential([\n",
        "    tf.keras.layers.Embedding(vocab_size, embedding_dim, input_length=max_length),\n",
        "    tf.keras.layers.Bidirectional(GRU(64,dropout=0.2)),\n",
        "    tf.keras.layers.Dense(24, activation='relu'),\n",
        "    tf.keras.layers.Flatten(),\n",
        "    tf.keras.layers.Dense(num_category, activation='softmax')\n",
        "])\n",
        "model.compile(loss='sparse_categorical_crossentropy',optimizer='adam',metrics=['accuracy'])\n",
        "model.summary()"
      ]
    },
    {
      "cell_type": "markdown",
      "metadata": {
        "id": "HYfYC317tjZO"
      },
      "source": [
        "## Training the model."
      ]
    },
    {
      "cell_type": "code",
      "execution_count": null,
      "metadata": {
        "colab": {
          "base_uri": "https://localhost:8080/"
        },
        "id": "zcIhivNss57j",
        "outputId": "fd079ec6-2150-4f7c-ba07-c672c70f3023"
      },
      "outputs": [
        {
          "output_type": "stream",
          "name": "stdout",
          "text": [
            "Epoch 1/10\n",
            "1493/1493 [==============================] - ETA: 0s - loss: 0.6873 - accuracy: 0.7480\n",
            "Epoch 1: val_accuracy improved from -inf to 0.82745, saving model to /content/drive/MyDrive/data/data.csvModel.h5\n",
            "1493/1493 [==============================] - 115s 73ms/step - loss: 0.6873 - accuracy: 0.7480 - val_loss: 0.4905 - val_accuracy: 0.8275\n",
            "Epoch 2/10\n",
            "1493/1493 [==============================] - ETA: 0s - loss: 0.3375 - accuracy: 0.8812\n",
            "Epoch 2: val_accuracy improved from 0.82745 to 0.83888, saving model to /content/drive/MyDrive/data/data.csvModel.h5\n",
            "1493/1493 [==============================] - 109s 73ms/step - loss: 0.3375 - accuracy: 0.8812 - val_loss: 0.4631 - val_accuracy: 0.8389\n",
            "Epoch 3/10\n",
            "1493/1493 [==============================] - ETA: 0s - loss: 0.2117 - accuracy: 0.9254\n",
            "Epoch 3: val_accuracy improved from 0.83888 to 0.83909, saving model to /content/drive/MyDrive/data/data.csvModel.h5\n",
            "1493/1493 [==============================] - 107s 72ms/step - loss: 0.2117 - accuracy: 0.9254 - val_loss: 0.4976 - val_accuracy: 0.8391\n",
            "Epoch 4/10\n",
            "1493/1493 [==============================] - ETA: 0s - loss: 0.1529 - accuracy: 0.9461\n",
            "Epoch 4: val_accuracy did not improve from 0.83909\n",
            "1493/1493 [==============================] - 109s 73ms/step - loss: 0.1529 - accuracy: 0.9461 - val_loss: 0.5340 - val_accuracy: 0.8357\n",
            "Epoch 5/10\n",
            "1493/1493 [==============================] - ETA: 0s - loss: 0.1190 - accuracy: 0.9579\n",
            "Epoch 5: val_accuracy did not improve from 0.83909\n",
            "1493/1493 [==============================] - 107s 71ms/step - loss: 0.1190 - accuracy: 0.9579 - val_loss: 0.5996 - val_accuracy: 0.8301\n",
            "Epoch 6/10\n",
            "1493/1493 [==============================] - ETA: 0s - loss: 0.0946 - accuracy: 0.9660\n",
            "Epoch 6: val_accuracy did not improve from 0.83909\n",
            "1493/1493 [==============================] - 111s 74ms/step - loss: 0.0946 - accuracy: 0.9660 - val_loss: 0.6522 - val_accuracy: 0.8242\n",
            "Epoch 7/10\n",
            "1493/1493 [==============================] - ETA: 0s - loss: 0.0786 - accuracy: 0.9715\n",
            "Reached 97.00% accuracy so we will stop trianing\n",
            "\n",
            "Epoch 7: val_accuracy did not improve from 0.83909\n",
            "1493/1493 [==============================] - 106s 71ms/step - loss: 0.0786 - accuracy: 0.9715 - val_loss: 0.7136 - val_accuracy: 0.8262\n"
          ]
        }
      ],
      "source": [
        "\n",
        "num_epochs = 10\n",
        "batch = 64\n",
        "history = model.fit(train_padded, train_label_seq,\n",
        "                    epochs=num_epochs,\n",
        "                    batch_size = batch,\n",
        "                    validation_data=(validation_padded, valid_label_seq),\n",
        "                    verbose=1,\n",
        "                    callbacks = callback_list)"
      ]
    },
    {
      "cell_type": "markdown",
      "metadata": {
        "id": "cguCJ2VatriW"
      },
      "source": [
        "## Saving the model and show result in Confusion Matrix"
      ]
    },
    {
      "cell_type": "code",
      "execution_count": null,
      "metadata": {
        "colab": {
          "base_uri": "https://localhost:8080/"
        },
        "id": "wfAXCTci0V5T",
        "outputId": "790e6160-9670-46ef-867a-31da72306cec"
      },
      "outputs": [
        {
          "output_type": "stream",
          "name": "stdout",
          "text": [
            "415/415 [==============================] - 4s 7ms/step\n"
          ]
        },
        {
          "output_type": "display_data",
          "data": {
            "text/plain": [
              "<Figure size 800x600 with 2 Axes>"
            ],
            "image/png": "[encoded data removed]"
          },
          "metadata": {}
        }
      ],
      "source": [
        "from sklearn.metrics import classification_report, confusion_matrix\n",
        "from keras.models import save_model\n",
        "# load the Saved model from directory\n",
        "model = load_model(path+\"Model.h5\")\n",
        "\n",
        "\n",
        "predictions = model.predict(test_padded)\n",
        "y_pred = np.argmax(predictions, axis=1)\n",
        "\n",
        "cm = confusion_matrix(testing_label_seq, y_pred)\n",
        "\n",
        "# Transform to df for easier plotting\n",
        "cm_df = pd.DataFrame(cm,\n",
        "\n",
        "                     index = ['Amusement' ,'IT' ,'International', 'National', 'Politics', 'Sports'],\n",
        "                     columns = ['Amusement' ,'IT' ,'International', 'National', 'Politics', 'Sports'])\n",
        "\n",
        "plt.figure(figsize=(8,6))\n",
        "sns.heatmap(cm_df, annot=True,cmap=\"YlGnBu\", fmt='g')\n",
        "plt.title('GRU \\nAccuracy: {0:.2f}'.format(accuracy_score(testing_label_seq, y_pred)*100))\n",
        "plt.ylabel('True label')\n",
        "plt.xlabel('Predicted label')\n",
        "plt.xticks(rotation = 45)\n",
        "plt.yticks(rotation = 45)\n",
        "plt.show()"
      ]
    },
    {
      "cell_type": "code",
      "execution_count": null,
      "metadata": {
        "colab": {
          "base_uri": "https://localhost:8080/"
        },
        "id": "AR6orQbh1E3j",
        "outputId": "d61c502c-1ed2-4cd9-ef87-1a7da39d2d48"
      },
      "outputs": [
        {
          "output_type": "execute_result",
          "data": {
            "text/plain": [
              "               precision  recall  f1-score       support\n",
              "Amusement          82.94   89.61     86.15   1617.000000\n",
              "IT                 73.80   48.25     58.35    286.000000\n",
              "International      87.76   91.30     89.49   4852.000000\n",
              "National           72.90   67.97     70.35   2398.000000\n",
              "Politics           69.31   67.93     68.62   1054.000000\n",
              "Sports             92.95   91.62     92.28   3065.000000\n",
              "accuracy           84.17   84.17     84.17      0.841697\n",
              "macro avg          79.94   76.11     77.54  13272.000000\n",
              "weighted avg       83.92   84.17     83.94  13272.000000"
            ],
            "text/html": [
              "\n",
              "  <div id=\"df-26b310be-c81e-4b85-ad8c-505c00acf5f2\" class=\"colab-df-container\">\n",
              "    <div>\n",
              "<style scoped>\n",
              "    .dataframe tbody tr th:only-of-type {\n",
              "        vertical-align: middle;\n",
              "    }\n",
              "\n",
              "    .dataframe tbody tr th {\n",
              "        vertical-align: top;\n",
              "    }\n",
              "\n",
              "    .dataframe thead th {\n",
              "        text-align: right;\n",
              "    }\n",
              "</style>\n",
              "<table border=\"1\" class=\"dataframe\">\n",
              "  <thead>\n",
              "    <tr style=\"text-align: right;\">\n",
              "      <th></th>\n",
              "      <th>precision</th>\n",
              "      <th>recall</th>\n",
              "      <th>f1-score</th>\n",
              "      <th>support</th>\n",
              "    </tr>\n",
              "  </thead>\n",
              "  <tbody>\n",
              "    <tr>\n",
              "      <th>Amusement</th>\n",
              "      <td>82.94</td>\n",
              "      <td>89.61</td>\n",
              "      <td>86.15</td>\n",
              "      <td>1617.000000</td>\n",
              "    </tr>\n",
              "    <tr>\n",
              "      <th>IT</th>\n",
              "      <td>73.80</td>\n",
              "      <td>48.25</td>\n",
              "      <td>58.35</td>\n",
              "      <td>286.000000</td>\n",
              "    </tr>\n",
              "    <tr>\n",
              "      <th>International</th>\n",
              "      <td>87.76</td>\n",
              "      <td>91.30</td>\n",
              "      <td>89.49</td>\n",
              "      <td>4852.000000</td>\n",
              "    </tr>\n",
              "    <tr>\n",
              "      <th>National</th>\n",
              "      <td>72.90</td>\n",
              "      <td>67.97</td>\n",
              "      <td>70.35</td>\n",
              "      <td>2398.000000</td>\n",
              "    </tr>\n",
              "    <tr>\n",
              "      <th>Politics</th>\n",
              "      <td>69.31</td>\n",
              "      <td>67.93</td>\n",
              "      <td>68.62</td>\n",
              "      <td>1054.000000</td>\n",
              "    </tr>\n",
              "    <tr>\n",
              "      <th>Sports</th>\n",
              "      <td>92.95</td>\n",
              "      <td>91.62</td>\n",
              "      <td>92.28</td>\n",
              "      <td>3065.000000</td>\n",
              "    </tr>\n",
              "    <tr>\n",
              "      <th>accuracy</th>\n",
              "      <td>84.17</td>\n",
              "      <td>84.17</td>\n",
              "      <td>84.17</td>\n",
              "      <td>0.841697</td>\n",
              "    </tr>\n",
              "    <tr>\n",
              "      <th>macro avg</th>\n",
              "      <td>79.94</td>\n",
              "      <td>76.11</td>\n",
              "      <td>77.54</td>\n",
              "      <td>13272.000000</td>\n",
              "    </tr>\n",
              "    <tr>\n",
              "      <th>weighted avg</th>\n",
              "      <td>83.92</td>\n",
              "      <td>84.17</td>\n",
              "      <td>83.94</td>\n",
              "      <td>13272.000000</td>\n",
              "    </tr>\n",
              "  </tbody>\n",
              "</table>\n",
              "</div>\n",
              "    <div class=\"colab-df-buttons\">\n",
              "\n",
              "  <div class=\"colab-df-container\">\n",
              "    <button class=\"colab-df-convert\" onclick=\"convertToInteractive('df-26b310be-c81e-4b85-ad8c-505c00acf5f2')\"\n",
              "            title=\"Convert this dataframe to an interactive table.\"\n",
              "            style=\"display:none;\">\n",
              "\n",
              "  <svg xmlns=\"http://www.w3.org/2000/svg\" height=\"24px\" viewBox=\"0 -960 960 960\">\n",
              "    <path d=\"M120-120v-720h720v720H120Zm60-500h600v-160H180v160Zm220 220h160v-160H400v160Zm0 220h160v-160H400v160ZM180-400h160v-160H180v160Zm440 0h160v-160H620v160ZM180-180h160v-160H180v160Zm440 0h160v-160H620v160Z\"/>\n",
              "  </svg>\n",
              "    </button>\n",
              "\n",
              "  <style>\n",
              "    .colab-df-container {\n",
              "      display:flex;\n",
              "      gap: 12px;\n",
              "    }\n",
              "\n",
              "    .colab-df-convert {\n",
              "      background-color: #E8F0FE;\n",
              "      border: none;\n",
              "      border-radius: 50%;\n",
              "      cursor: pointer;\n",
              "      display: none;\n",
              "      fill: #1967D2;\n",
              "      height: 32px;\n",
              "      padding: 0 0 0 0;\n",
              "      width: 32px;\n",
              "    }\n",
              "\n",
              "    .colab-df-convert:hover {\n",
              "      background-color: #E2EBFA;\n",
              "      box-shadow: 0px 1px 2px rgba(60, 64, 67, 0.3), 0px 1px 3px 1px rgba(60, 64, 67, 0.15);\n",
              "      fill: #174EA6;\n",
              "    }\n",
              "\n",
              "    .colab-df-buttons div {\n",
              "      margin-bottom: 4px;\n",
              "    }\n",
              "\n",
              "    [theme=dark] .colab-df-convert {\n",
              "      background-color: #3B4455;\n",
              "      fill: #D2E3FC;\n",
              "    }\n",
              "\n",
              "    [theme=dark] .colab-df-convert:hover {\n",
              "      background-color: #434B5C;\n",
              "      box-shadow: 0px 1px 3px 1px rgba(0, 0, 0, 0.15);\n",
              "      filter: drop-shadow(0px 1px 2px rgba(0, 0, 0, 0.3));\n",
              "      fill: #FFFFFF;\n",
              "    }\n",
              "  </style>\n",
              "\n",
              "    <script>\n",
              "      const buttonEl =\n",
              "        document.querySelector('#df-26b310be-c81e-4b85-ad8c-505c00acf5f2 button.colab-df-convert');\n",
              "      buttonEl.style.display =\n",
              "        google.colab.kernel.accessAllowed ? 'block' : 'none';\n",
              "\n",
              "      async function convertToInteractive(key) {\n",
              "        const element = document.querySelector('#df-26b310be-c81e-4b85-ad8c-505c00acf5f2');\n",
              "        const dataTable =\n",
              "          await google.colab.kernel.invokeFunction('convertToInteractive',\n",
              "                                                    [key], {});\n",
              "        if (!dataTable) return;\n",
              "\n",
              "        const docLinkHtml = 'Like what you see? Visit the ' +\n",
              "          '<a target=\"_blank\" href=https://colab.research.google.com/notebooks/data_table.ipynb>data table notebook</a>'\n",
              "          + ' to learn more about interactive tables.';\n",
              "        element.innerHTML = '';\n",
              "        dataTable['output_type'] = 'display_data';\n",
              "        await google.colab.output.renderOutput(dataTable, element);\n",
              "        const docLink = document.createElement('div');\n",
              "        docLink.innerHTML = docLinkHtml;\n",
              "        element.appendChild(docLink);\n",
              "      }\n",
              "    </script>\n",
              "  </div>\n",
              "\n",
              "\n",
              "<div id=\"df-2428cad9-20c1-4b38-a17c-536afae396c2\">\n",
              "  <button class=\"colab-df-quickchart\" onclick=\"quickchart('df-2428cad9-20c1-4b38-a17c-536afae396c2')\"\n",
              "            title=\"Suggest charts.\"\n",
              "            style=\"display:none;\">\n",
              "\n",
              "<svg xmlns=\"http://www.w3.org/2000/svg\" height=\"24px\"viewBox=\"0 0 24 24\"\n",
              "     width=\"24px\">\n",
              "    <g>\n",
              "        <path d=\"M19 3H5c-1.1 0-2 .9-2 2v14c0 1.1.9 2 2 2h14c1.1 0 2-.9 2-2V5c0-1.1-.9-2-2-2zM9 17H7v-7h2v7zm4 0h-2V7h2v10zm4 0h-2v-4h2v4z\"/>\n",
              "    </g>\n",
              "</svg>\n",
              "  </button>\n",
              "\n",
              "<style>\n",
              "  .colab-df-quickchart {\n",
              "      --bg-color: #E8F0FE;\n",
              "      --fill-color: #1967D2;\n",
              "      --hover-bg-color: #E2EBFA;\n",
              "      --hover-fill-color: #174EA6;\n",
              "      --disabled-fill-color: #AAA;\n",
              "      --disabled-bg-color: #DDD;\n",
              "  }\n",
              "\n",
              "  [theme=dark] .colab-df-quickchart {\n",
              "      --bg-color: #3B4455;\n",
              "      --fill-color: #D2E3FC;\n",
              "      --hover-bg-color: #434B5C;\n",
              "      --hover-fill-color: #FFFFFF;\n",
              "      --disabled-bg-color: #3B4455;\n",
              "      --disabled-fill-color: #666;\n",
              "  }\n",
              "\n",
              "  .colab-df-quickchart {\n",
              "    background-color: var(--bg-color);\n",
              "    border: none;\n",
              "    border-radius: 50%;\n",
              "    cursor: pointer;\n",
              "    display: none;\n",
              "    fill: var(--fill-color);\n",
              "    height: 32px;\n",
              "    padding: 0;\n",
              "    width: 32px;\n",
              "  }\n",
              "\n",
              "  .colab-df-quickchart:hover {\n",
              "    background-color: var(--hover-bg-color);\n",
              "    box-shadow: 0 1px 2px rgba(60, 64, 67, 0.3), 0 1px 3px 1px rgba(60, 64, 67, 0.15);\n",
              "    fill: var(--button-hover-fill-color);\n",
              "  }\n",
              "\n",
              "  .colab-df-quickchart-complete:disabled,\n",
              "  .colab-df-quickchart-complete:disabled:hover {\n",
              "    background-color: var(--disabled-bg-color);\n",
              "    fill: var(--disabled-fill-color);\n",
              "    box-shadow: none;\n",
              "  }\n",
              "\n",
              "  .colab-df-spinner {\n",
              "    border: 2px solid var(--fill-color);\n",
              "    border-color: transparent;\n",
              "    border-bottom-color: var(--fill-color);\n",
              "    animation:\n",
              "      spin 1s steps(1) infinite;\n",
              "  }\n",
              "\n",
              "  @keyframes spin {\n",
              "    0% {\n",
              "      border-color: transparent;\n",
              "      border-bottom-color: var(--fill-color);\n",
              "      border-left-color: var(--fill-color);\n",
              "    }\n",
              "    20% {\n",
              "      border-color: transparent;\n",
              "      border-left-color: var(--fill-color);\n",
              "      border-top-color: var(--fill-color);\n",
              "    }\n",
              "    30% {\n",
              "      border-color: transparent;\n",
              "      border-left-color: var(--fill-color);\n",
              "      border-top-color: var(--fill-color);\n",
              "      border-right-color: var(--fill-color);\n",
              "    }\n",
              "    40% {\n",
              "      border-color: transparent;\n",
              "      border-right-color: var(--fill-color);\n",
              "      border-top-color: var(--fill-color);\n",
              "    }\n",
              "    60% {\n",
              "      border-color: transparent;\n",
              "      border-right-color: var(--fill-color);\n",
              "    }\n",
              "    80% {\n",
              "      border-color: transparent;\n",
              "      border-right-color: var(--fill-color);\n",
              "      border-bottom-color: var(--fill-color);\n",
              "    }\n",
              "    90% {\n",
              "      border-color: transparent;\n",
              "      border-bottom-color: var(--fill-color);\n",
              "    }\n",
              "  }\n",
              "</style>\n",
              "\n",
              "  <script>\n",
              "    async function quickchart(key) {\n",
              "      const quickchartButtonEl =\n",
              "        document.querySelector('#' + key + ' button');\n",
              "      quickchartButtonEl.disabled = true;  // To prevent multiple clicks.\n",
              "      quickchartButtonEl.classList.add('colab-df-spinner');\n",
              "      try {\n",
              "        const charts = await google.colab.kernel.invokeFunction(\n",
              "            'suggestCharts', [key], {});\n",
              "      } catch (error) {\n",
              "        console.error('Error during call to suggestCharts:', error);\n",
              "      }\n",
              "      quickchartButtonEl.classList.remove('colab-df-spinner');\n",
              "      quickchartButtonEl.classList.add('colab-df-quickchart-complete');\n",
              "    }\n",
              "    (() => {\n",
              "      let quickchartButtonEl =\n",
              "        document.querySelector('#df-2428cad9-20c1-4b38-a17c-536afae396c2 button');\n",
              "      quickchartButtonEl.style.display =\n",
              "        google.colab.kernel.accessAllowed ? 'block' : 'none';\n",
              "    })();\n",
              "  </script>\n",
              "</div>\n",
              "    </div>\n",
              "  </div>\n"
            ]
          },
          "metadata": {},
          "execution_count": 23
        }
      ],
      "source": [
        "report = pd.DataFrame(classification_report(y_true = testing_label_seq, y_pred = y_pred, output_dict=True)).transpose()\n",
        "report = report.rename(index={'0': 'Amusement','1':'IT','2':'International','3':'National','4':'Politics','5':'Sports'})\n",
        "report[['precision','recall','f1-score']]=report[['precision','recall','f1-score']].apply(lambda x: round(x*100,2))\n",
        "report"
      ]
    },
    {
      "cell_type": "code",
      "execution_count": null,
      "metadata": {
        "id": "27kdslteIYXz"
      },
      "outputs": [],
      "source": [
        "model = load_model(path+\"Model.h5\")\n"
      ]
    },
    {
      "cell_type": "code",
      "execution_count": null,
      "metadata": {
        "colab": {
          "base_uri": "https://localhost:8080/"
        },
        "id": "EK06Aw_rMTJh",
        "outputId": "a70eb2cd-3b5c-4fb4-c1bf-99ed5340b417"
      },
      "outputs": [
        {
          "output_type": "stream",
          "name": "stdout",
          "text": [
            "1/1 [==============================] - 1s 814ms/step\n",
            "[[5.7923229e-04 3.9831657e-04 9.9515885e-01 1.9385335e-03 9.5660682e-05\n",
            "  1.8294024e-03]]\n",
            "2\n"
          ]
        }
      ],
      "source": [
        "\n",
        "# Import numpy\n",
        "import numpy as np\n",
        "\n",
        "# Define a new input as a string\n",
        "new_input = 'মেক্সিকো সীমান্তে সেনা পাঠাচ্ছেন ট্রাম্প '\n",
        "\n",
        "# Tokenize and pad the new input using the same tokenizer and pad_sequences functions\n",
        "new_sequence = tokenizer.texts_to_sequences([new_input])\n",
        "new_padded = pad_sequences(new_sequence, maxlen=12)\n",
        "\n",
        "# Feed the padded sequence to the GRU model and get the prediction output\n",
        "prediction = model.predict(new_padded)\n",
        "print(prediction)\n",
        "# Output: [[0.01 0.02 0.03 0.9  0.02 0.02]]\n",
        "\n",
        "# Find the index of the maximum value in the output vector\n",
        "predicted_category = np.argmax(prediction)\n",
        "print(predicted_category)\n",
        "# Output: 3"
      ]
    },
    {
      "cell_type": "code",
      "execution_count": null,
      "metadata": {
        "colab": {
          "base_uri": "https://localhost:8080/"
        },
        "id": "zyugSll0JtA7",
        "outputId": "21e0d693-3041-4dd5-c294-a8e1c77e8177"
      },
      "outputs": [
        {
          "output_type": "stream",
          "name": "stdout",
          "text": [
            "Predicted Category: International\n"
          ]
        }
      ],
      "source": [
        "def get_category_from_number(number):\n",
        "    category_mapping = {\n",
        "        0: \"Amusement\",\n",
        "        1: \"IT\",\n",
        "        2: \"International\",\n",
        "        3: \"National\",\n",
        "        4: \"Politics\",\n",
        "        5: \"Sports\"\n",
        "    }\n",
        "\n",
        "    return category_mapping.get(number, \"Unknown\")\n",
        "\n",
        "# Example usage with your model's predicted number\n",
        "predicted_number = predicted_category  # Replace with your model's predicted number\n",
        "predicted_class = get_category_from_number(predicted_number)\n",
        "\n",
        "print(f\"Predicted Category: {predicted_class}\")\n"
      ]
    },
    {
      "cell_type": "markdown",
      "metadata": {
        "id": "Jqn-zC3cKTHI"
      },
      "source": [
        "## Testing with Unseen Data"
      ]
    },
    {
      "cell_type": "code",
      "execution_count": null,
      "metadata": {
        "id": "Q_tldJk_MvLY",
        "colab": {
          "base_uri": "https://localhost:8080/"
        },
        "outputId": "218a2bd0-e9d7-45eb-b989-6ddde4435ecf"
      },
      "outputs": [
        {
          "output_type": "stream",
          "name": "stdout",
          "text": [
            "ঢাকার ২ হাসপাতালে মৃত্যু শতক ছাড়াল \n",
            "1/1 [==============================] - 0s 25ms/step\n",
            "3\n",
            "Predicted Category: National\n"
          ]
        }
      ],
      "source": [
        "# Import numpy\n",
        "import numpy as np\n",
        "\n",
        "# Define a new input as a string\n",
        "new_input = str(input())\n",
        "\n",
        "# Tokenize and pad the new input using the same tokenizer and pad_sequences functions\n",
        "new_sequence = tokenizer.texts_to_sequences([new_input])\n",
        "new_padded = pad_sequences(new_sequence, maxlen=12)\n",
        "\n",
        "# Feed the padded sequence to the GRU model and get the prediction output\n",
        "prediction = model.predict(new_padded)\n",
        "#print(prediction)\n",
        "# Output: [[0.01 0.02 0.03 0.9  0.02 0.02]]\n",
        "\n",
        "# Find the index of the maximum value in the output vector\n",
        "predicted_category = np.argmax(prediction)\n",
        "print(predicted_category)\n",
        "# Output: 3\n",
        "\n",
        "\n",
        "\n",
        "def get_category_from_number(number):\n",
        "    category_mapping = {\n",
        "        0: \"Amusement\",\n",
        "        1: \"IT\",\n",
        "        2: \"International\",\n",
        "        3: \"National\",\n",
        "        4: \"Politics\",\n",
        "        5: \"Sports\"\n",
        "    }\n",
        "\n",
        "    return category_mapping.get(number, \"Unknown\")\n",
        "\n",
        "# Example usage with your model's predicted number\n",
        "predicted_number = predicted_category  # Replace with your model's predicted number\n",
        "predicted_class = get_category_from_number(predicted_number)\n",
        "\n",
        "print(f\"Predicted Category: {predicted_class}\")"
      ]
    },
    {
      "cell_type": "code",
      "source": [],
      "metadata": {
        "id": "Ajy8dTdTkeGU"
      },
      "execution_count": null,
      "outputs": []
    }
  ],
  "metadata": {
    "colab": {
      "provenance": [],
      "mount_file_id": "1xXuFnTIFU5HkjoxUJ2VbK0_EF-SvY8WH",
      "authorship_tag": "ABX9TyP84AWRoB7AHeaCN1Y8mGsz",
      "include_colab_link": true
    },
    "kernelspec": {
      "display_name": "Python 3",
      "name": "python3"
    },
    "language_info": {
      "name": "python"
    }
  },
  "nbformat": 4,
  "nbformat_minor": 0
}